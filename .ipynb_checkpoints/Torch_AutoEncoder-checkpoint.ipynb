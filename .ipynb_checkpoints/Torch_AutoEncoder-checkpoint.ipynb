{
 "cells": [
  {
   "cell_type": "markdown",
   "id": "2e985c7d",
   "metadata": {},
   "source": [
    "# KDD异常检测\n",
    "* 导入数据已经对离散值数据列进行one-hot编码,非离散值列已经归一化\n",
    "* 数据为KDD数据的10%（data_10_percent_corrected） 共49万多条，其中正常数据9万7千多条，非正常数据39万多条\n",
    "* 采用全连接神经网络自编码器模型，利用正常数据进行训练\n",
    "* 我们利用正常数据的3/4作为训练集，正常数据的1/4和非正常数据作为测试集"
   ]
  },
  {
   "cell_type": "code",
   "execution_count": 2,
   "id": "d59cca5f",
   "metadata": {},
   "outputs": [],
   "source": [
    "import torch as torch\n",
    "import numpy as np\n",
    "import matplotlib.pyplot as plt\n",
    "import torch.nn as nn\n",
    "%matplotlib inline"
   ]
  },
  {
   "cell_type": "markdown",
   "id": "2821cbc4",
   "metadata": {},
   "source": [
    "##  导入数据"
   ]
  },
  {
   "cell_type": "code",
   "execution_count": 7,
   "id": "2aac3776",
   "metadata": {},
   "outputs": [],
   "source": [
    "normal_data=np.load('./data/data_normal.npy')\n",
    "unnormal_data=np.load('./data/data_unnormal.npy')"
   ]
  },
  {
   "cell_type": "code",
   "execution_count": 12,
   "id": "a1999f12",
   "metadata": {},
   "outputs": [],
   "source": [
    "normal_data=torch.tensor(normal_data)\n",
    "unnormal_data=torch.tensor(unnormal_data)"
   ]
  },
  {
   "cell_type": "markdown",
   "id": "611e8db3",
   "metadata": {},
   "source": [
    "## 构建训练数据和测试数据集"
   ]
  },
  {
   "cell_type": "code",
   "execution_count": 15,
   "id": "e60e5357",
   "metadata": {},
   "outputs": [],
   "source": [
    "num_train=int(len(normal_data)*0.75) #num_trian=72957\n",
    "train_data=normal_data[0:num_train,:]\n",
    "test_data_normal=normal_data[num_train:len(normal_data),:]\n",
    "test_data_unnormal=unnormal_data"
   ]
  },
  {
   "cell_type": "code",
   "execution_count": 19,
   "id": "cfb797a2",
   "metadata": {},
   "outputs": [
    {
     "data": {
      "text/plain": [
       "torch.Size([24320, 42])"
      ]
     },
     "execution_count": 19,
     "metadata": {},
     "output_type": "execute_result"
    }
   ],
   "source": [
    "test_data_normal.shape"
   ]
  },
  {
   "cell_type": "markdown",
   "id": "975ec11e",
   "metadata": {},
   "source": [
    "## 全连接自编器\n",
    "* 每条数据经过编码后有42个特征"
   ]
  },
  {
   "cell_type": "code",
   "execution_count": null,
   "id": "dcfca9e3",
   "metadata": {},
   "outputs": [],
   "source": [
    "class AutoEncoder_FCN(nn.Module):\n",
    "    def __init__(self):\n",
    "        super(AutoEncoder_FCN,self).__init__()\n",
    "        "
   ]
  }
 ],
 "metadata": {
  "kernelspec": {
   "display_name": "Python 3",
   "language": "python",
   "name": "python3"
  },
  "language_info": {
   "codemirror_mode": {
    "name": "ipython",
    "version": 3
   },
   "file_extension": ".py",
   "mimetype": "text/x-python",
   "name": "python",
   "nbconvert_exporter": "python",
   "pygments_lexer": "ipython3",
   "version": "3.8.10"
  }
 },
 "nbformat": 4,
 "nbformat_minor": 5
}
